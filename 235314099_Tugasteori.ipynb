{
 "cells": [
  {
   "cell_type": "code",
   "execution_count": null,
   "metadata": {},
   "outputs": [],
   "source": [
    "# Eugenius Kriswinar Adi Cahya / 235314114\n",
    "import math"
   ]
  },
  {
   "cell_type": "code",
   "execution_count": 3,
   "metadata": {},
   "outputs": [],
   "source": [
    "# Fungsi untuk menghitung jarak Euclidean dan Manhattan untuk 2D\n",
    "def euclidean_distance_2d(p1, p2):\n",
    "    return math.sqrt((p2[0] - p1[0])**2 + (p2[1] - p1[1])**2)\n",
    "\n",
    "def manhattan_distance_2d(p1, p2):\n",
    "    return abs(p2[0] - p1[0]) + abs(p2[1] - p1[1])\n",
    "\n",
    "# Fungsi untuk menghitung jarak Euclidean dan Manhattan untuk 3D\n",
    "def euclidean_distance_3d(p1, p2):\n",
    "    return math.sqrt((p2[0] - p1[0])**2 + (p2[1] - p1[1])**2 + (p2[2] - p1[2])**2)\n",
    "\n",
    "def manhattan_distance_3d(p1, p2):\n",
    "    return abs(p2[0] - p1[0]) + abs(p2[1] - p1[1]) + abs(p2[2] - p1[2])\n"
   ]
  },
  {
   "cell_type": "code",
   "execution_count": 4,
   "metadata": {},
   "outputs": [
    {
     "name": "stdout",
     "output_type": "stream",
     "text": [
      "Jarak Euclidean (2D) antara A dan B: 2.83\n",
      "Jarak Manhattan (2D) antara A dan B: 4\n"
     ]
    }
   ],
   "source": [
    "# Titik dalam 2D\n",
    "a_2d = (3, 4)\n",
    "b_2d = (1, 2)\n",
    "\n",
    "# Perhitungan\n",
    "euclidean_2d = euclidean_distance_2d(a_2d, b_2d)\n",
    "manhattan_2d = manhattan_distance_2d(a_2d, b_2d)\n",
    "\n",
    "# Output hasil\n",
    "print(f\"Jarak Euclidean (2D) antara A dan B: {euclidean_2d:.2f}\")\n",
    "print(f\"Jarak Manhattan (2D) antara A dan B: {manhattan_2d}\")"
   ]
  },
  {
   "cell_type": "code",
   "execution_count": 5,
   "metadata": {},
   "outputs": [
    {
     "name": "stdout",
     "output_type": "stream",
     "text": [
      "Jarak Euclidean (3D) antara A dan C: 10.39\n",
      "Jarak Manhattan (3D) antara A dan C: 18\n"
     ]
    }
   ],
   "source": [
    "# Titik dalam 3D\n",
    "a_3d = (1, 2, 3)\n",
    "c_3d = (7, 8, 9)\n",
    "\n",
    "# Perhitungan\n",
    "euclidean_3d = euclidean_distance_3d(a_3d, c_3d)\n",
    "manhattan_3d = manhattan_distance_3d(a_3d, c_3d)\n",
    "\n",
    "# Output hasil\n",
    "print(f\"Jarak Euclidean (3D) antara A dan C: {euclidean_3d:.2f}\")\n",
    "print(f\"Jarak Manhattan (3D) antara A dan C: {manhattan_3d}\")"
   ]
  }
 ],
 "metadata": {
  "kernelspec": {
   "display_name": "Python 3",
   "language": "python",
   "name": "python3"
  },
  "language_info": {
   "codemirror_mode": {
    "name": "ipython",
    "version": 3
   },
   "file_extension": ".py",
   "mimetype": "text/x-python",
   "name": "python",
   "nbconvert_exporter": "python",
   "pygments_lexer": "ipython3",
   "version": "3.9.6"
  }
 },
 "nbformat": 4,
 "nbformat_minor": 2
}
